{
 "metadata": {
  "name": "",
  "signature": "sha256:fd799d9be15900d1a94158ee2006c580a478fd270326e98d72134e560b2c378b"
 },
 "nbformat": 3,
 "nbformat_minor": 0,
 "worksheets": [
  {
   "cells": [
    {
     "cell_type": "code",
     "collapsed": false,
     "input": [
      "import subprocess"
     ],
     "language": "python",
     "metadata": {},
     "outputs": [],
     "prompt_number": 304
    },
    {
     "cell_type": "code",
     "collapsed": false,
     "input": [
      "colours=[]\n",
      "colours.append('#145A64') # Dark green\n",
      "colours.append('#930096') # Purple\n",
      "colours.append('#FF7800') # Orange\n",
      "colours.append('#00AFBE') # Turquoise\n",
      "colours.append('#FFBE00') # Yellow\n",
      "colours.append('#2850DC') # Blue\n",
      "colours.append('#C8145F') # Crimson\n",
      "colours.append('#008C00') # Green\n",
      "colours.append('#462878') # Purple\n",
      "colours.append('#8C001E') # Dark red"
     ],
     "language": "python",
     "metadata": {},
     "outputs": [],
     "prompt_number": 305
    },
    {
     "cell_type": "code",
     "collapsed": false,
     "input": [
      "labels=[]\n",
      "labels.append('Sierra Leone/West Africa/Liberia')\n",
      "labels.append('Pentavalent Vaccine/Children/Tetanus')\n",
      "labels.append('Live Births/State Government/Children')\n",
      "labels.append('Oral Polio Vaccine/Pakistan')\n",
      "labels.append('CDC/Disease Control')\n",
      "labels.append('Polio Drops/City')\n",
      "labels.append('Acute Encephalitis Syndrome/Japanese Encephalitis')\n",
      "labels.append('Drug Companies/Profits')\n",
      "labels.append('West Africa/Ebola Vaccine')\n",
      "labels.append('Afghanistan/Militants/Polio Workers')"
     ],
     "language": "python",
     "metadata": {},
     "outputs": [],
     "prompt_number": 306
    },
    {
     "cell_type": "code",
     "collapsed": false,
     "input": [
      "assert len(labels)==len(colours)"
     ],
     "language": "python",
     "metadata": {},
     "outputs": [],
     "prompt_number": 307
    },
    {
     "cell_type": "markdown",
     "metadata": {},
     "source": [
      "convert -size 300x300 xc:lightblue -pointsize 70 -fill blue -draw \"text 10,10 'Hello world'\" -fill '#000000' -draw \"text 10,100 'Hello 2'\" test.png"
     ]
    },
    {
     "cell_type": "code",
     "collapsed": false,
     "input": [
      "class labelMaker():\n",
      "    def __init__(self,colours=None,labels=None):\n",
      "        self.colours=colours\n",
      "        self.labels=labels\n",
      "        assert len(self.labels)==len(self.colours)\n",
      "        \n",
      "    def getColours(self):\n",
      "        return self.colours\n",
      "\n",
      "    def getLabels(self):\n",
      "        return self.labels\n",
      "\n",
      "    def getCommand(self,fname='out.png'):\n",
      "        self.fontSize=60\n",
      "        self.size=self.fontSize*1.1*len(self.labels)\n",
      "        \n",
      "        self.cmdString=\"\"\"convert -size %dx%d xc:transparent -pointsize %d\"\"\" % (self.fontSize*int(0.5*max([len(s) for s in self.labels])),self.size,self.fontSize)\n",
      "        \n",
      "        for n,colour in enumerate(self.colours):\n",
      "            self.cmdString+=''' -fill \\\"%s\\\" -draw \\\"text 10,%d '%s'\\\" ''' % (colour,((n+1)*self.fontSize),self.labels[n])\n",
      "        self.cmdString+=fname\n",
      "#        print self.cmdString\n",
      "        return self.cmdString\n",
      "    \n",
      "    def executeCommand(self,fname='out.png'):\n",
      "        out=subprocess.call(self.getCommand(fname=fname),shell=True)\n",
      "        if out:\n",
      "            print '!!!Error'"
     ],
     "language": "python",
     "metadata": {},
     "outputs": [],
     "prompt_number": 326
    },
    {
     "cell_type": "code",
     "collapsed": false,
     "input": [
      "LabelMaker=labelMaker(colours=colours,labels=labels)"
     ],
     "language": "python",
     "metadata": {},
     "outputs": [],
     "prompt_number": 327
    },
    {
     "cell_type": "code",
     "collapsed": false,
     "input": [
      "s=LabelMaker.getCommand()"
     ],
     "language": "python",
     "metadata": {},
     "outputs": [],
     "prompt_number": 328
    },
    {
     "cell_type": "code",
     "collapsed": false,
     "input": [
      "LabelMaker.executeCommand(fname='test_2.png')"
     ],
     "language": "python",
     "metadata": {},
     "outputs": [],
     "prompt_number": 330
    },
    {
     "cell_type": "code",
     "collapsed": false,
     "input": [],
     "language": "python",
     "metadata": {},
     "outputs": []
    }
   ],
   "metadata": {}
  }
 ]
}